{
 "cells": [
  {
   "cell_type": "code",
   "execution_count": 2,
   "id": "3c290611-5c5e-4bf7-b78c-9aa93f45767c",
   "metadata": {},
   "outputs": [
    {
     "name": "stdout",
     "output_type": "stream",
     "text": [
      "    isbn                    title                edition    copyright \n",
      "0135404673   Intro to Python for CS and DS           1         2020   \n",
      "0132151006   Internet & WWW How to Program           5         2012   \n",
      "0134743350   Java How to Program                     11        2018   \n",
      "0133976890   C How to Program                        8         2016   \n",
      "0133406954   Visual Basic 2012 How to Program        6         2014   \n",
      "0134601548   Visual C# How to Program                6         2017   \n",
      "0136151574   Visual C++ How to Program               2         2008   \n",
      "0134448235   C++ How to Program                      10        2017   \n",
      "0134444302   Android How to Program                  3         2017   \n",
      "0134289366   Android 6 for Programmers               3         2016   \n"
     ]
    }
   ],
   "source": [
    "\"\"\"\n",
    "This program opens the books database and use Cursor method execute to select all the data in the titles table, then use description and fetchall to \n",
    "display the data in tabular format.\n",
    "Author: Azeez Mohammed\n",
    "\"\"\"\n",
    "\n",
    "# call sqlite3's connect function to connect to the database and obtain a connection object\n",
    "import sqlite3\n",
    "\n",
    "connection = sqlite3.connect('books.db')\n",
    "\n",
    "# uses SQL query and pandas to view the authors table's contents\n",
    "import pandas as pd\n",
    "\n",
    "cursor = connection.cursor()\n",
    "cursor = cursor.execute(\"\"\"SELECT * FROM titles\"\"\")\n",
    "print(\"{:^12} {:^35} {:<10} {:^10}\".format(cursor.description[0][0], cursor.description[1][0], cursor.description[2][0], cursor.description[3][0]))\n",
    "data = cursor.fetchall()\n",
    "\n",
    "for row in data:\n",
    "    print(\"{:<12} {:<35} {:^10} {:^10}\".format(row[0], row[1], row[2], row[3]))\n",
    "    "
   ]
  },
  {
   "cell_type": "code",
   "execution_count": null,
   "id": "3f737821-3d37-4365-a8be-f8aa16852ee8",
   "metadata": {},
   "outputs": [],
   "source": []
  }
 ],
 "metadata": {
  "kernelspec": {
   "display_name": "Python 3 (ipykernel)",
   "language": "python",
   "name": "python3"
  },
  "language_info": {
   "codemirror_mode": {
    "name": "ipython",
    "version": 3
   },
   "file_extension": ".py",
   "mimetype": "text/x-python",
   "name": "python",
   "nbconvert_exporter": "python",
   "pygments_lexer": "ipython3",
   "version": "3.11.7"
  }
 },
 "nbformat": 4,
 "nbformat_minor": 5
}
